{
 "cells": [
  {
   "cell_type": "code",
   "execution_count": 33,
   "metadata": {},
   "outputs": [
    {
     "name": "stdout",
     "output_type": "stream",
     "text": [
      "[['London', 'New York'], ['New York', 'Lima'], ['Lima', 'Sao Paulo']]\n"
     ]
    }
   ],
   "source": [
    "paths = [[\"London\",\"New York\"],[\"New York\",\"Lima\"],[\"Lima\",\"Sao Paulo\"]]\n",
    "print(paths)"
   ]
  },
  {
   "cell_type": "code",
   "execution_count": 44,
   "metadata": {},
   "outputs": [
    {
     "name": "stdout",
     "output_type": "stream",
     "text": [
      "Sao Paulo\n"
     ]
    }
   ],
   "source": [
    "def destcity(paths):\n",
    "    d = {}\n",
    "    for path in paths:\n",
    "        d[path[0]] = path[1]\n",
    "    for path in paths:\n",
    "        if path[1] not in d:\n",
    "            return path[1]\n",
    "print(destcity(paths))"
   ]
  },
  {
   "cell_type": "code",
   "execution_count": null,
   "metadata": {},
   "outputs": [],
   "source": [
    "Input: img = [[1,1,1],[1,0,1],[1,1,1]]\n",
    "Output: [[0,0,0],[0,0,0],[0,0,0]]\n",
    "\n",
    "For the points (0,0), (0,2), (2,0), (2,2): floor(3/4) = floor(0.75) = 0\n",
    "For the points (0,1), (1,0), (1,2), (2,1): floor(5/6) = floor(0.83333333) = 0\n",
    "For the point (1,1): floor(8/9) = floor(0.88888889) = 0\n",
    "\n",
    "An image smoother is a filter of the size 3 x 3 that can be applied to each cell of an image by rounding down the average of the cell and the eight surrounding cells (i.e., the average of the nine cells in the blue smoother). If one or more of the surrounding cells of a cell is not present, we do not consider it in the average (i.e., the average of the four cells in the red smoother).\n",
    "\n"
   ]
  },
  {
   "cell_type": "code",
   "execution_count": null,
   "metadata": {},
   "outputs": [],
   "source": [
    "Given n points on a 2D plane where points[i] = [xi, yi], Return the widest vertical area between two points such that no points are inside the area.\n",
    "\n",
    "A vertical area is an area of fixed-width extending infinitely along the y-axis (i.e., infinite height). The widest vertical area is the one with the maximum width.\n",
    "\n",
    "Note that points on the edge of a vertical area are not considered included in the area."
   ]
  },
  {
   "cell_type": "code",
   "execution_count": 8,
   "metadata": {},
   "outputs": [],
   "source": [
    "def widestVerticalArea(points):\n",
    "    # Sort the points based on their x-coordinates\n",
    "    max_area = 0\n",
    "    points.sort()\n",
    "    print(points)\n",
    "    for i in range(1, len(points)):\n",
    "      if points[i][0]-points[i-1][0] > max_area:\n",
    "        max_area = points[i][0]-points[i-1][0]\n",
    "    return max_area "
   ]
  },
  {
   "cell_type": "code",
   "execution_count": 9,
   "metadata": {},
   "outputs": [
    {
     "name": "stdout",
     "output_type": "stream",
     "text": [
      "[[1, 0], [1, 4], [3, 1], [5, 3], [8, 8], [9, 0]]\n",
      "3\n"
     ]
    }
   ],
   "source": [
    "points = [[3,1],[9,0],[1,0],[1,4],[5,3],[8,8]]\n",
    "print(widestVerticalArea(points))"
   ]
  },
  {
   "cell_type": "code",
   "execution_count": null,
   "metadata": {},
   "outputs": [],
   "source": [
    "Given a string s of zeros and ones, return the maximum score after splitting the string into two non-empty substrings (i.e. left substring and right substring).\n",
    "\n",
    "The score after splitting a string is the number of zeros in the left substring plus the number of ones in the right substring.\n",
    "\n",
    "Input: s = \"011101\"\n",
    "Output: 5 \n",
    "Explanation: \n",
    "All possible ways of splitting s into two non-empty substrings are:\n",
    "left = \"0\" and right = \"11101\", score = 1 + 4 = 5 \n",
    "left = \"01\" and right = \"1101\", score = 1 + 3 = 4 \n",
    "left = \"011\" and right = \"101\", score = 1 + 2 = 3 \n",
    "left = \"0111\" and right = \"01\", score = 1 + 1 = 2 \n",
    "left = \"01110\" and right = \"1\", score = 2 + 1 = 3 "
   ]
  },
  {
   "cell_type": "code",
   "execution_count": 16,
   "metadata": {},
   "outputs": [
    {
     "data": {
      "text/plain": [
       "5"
      ]
     },
     "execution_count": 16,
     "metadata": {},
     "output_type": "execute_result"
    }
   ],
   "source": [
    "s = \"011101\"\n",
    "\n",
    "def count_left_right(s):\n",
    "    max_val = 0\n",
    "    for i in range(len(s) - 1):\n",
    "        left = s[:i+1]\n",
    "        right = s[i+1:]\n",
    "\n",
    "        left_val = left.count('0')\n",
    "        right_val = right.count('1')\n",
    "\n",
    "        sum_of_val = left_val + right_val\n",
    "\n",
    "        if sum_of_val > max_val:\n",
    "            max_val = sum_of_val\n",
    "\n",
    "    return max_val\n",
    "        \n",
    "\n",
    "count_left_right(s)"
   ]
  },
  {
   "cell_type": "code",
   "execution_count": null,
   "metadata": {},
   "outputs": [],
   "source": [
    "You have n dice, and each die has k faces numbered from 1 to k.\n",
    "\n",
    "Given three integers n, k, and target, return the number of possible ways (out of the kn total ways) to roll the dice, so the sum of the face-up numbers equals target. Since the answer may be too large, return it modulo 109 + 7."
   ]
  },
  {
   "cell_type": "code",
   "execution_count": 6,
   "metadata": {},
   "outputs": [
    {
     "name": "stdout",
     "output_type": "stream",
     "text": [
      "222616187\n"
     ]
    }
   ],
   "source": [
    "def numRollsToTarget(n, k, target):\n",
    "    dp = [[0 for _ in range(target+1)] for _ in range(n+1)]\n",
    "    dp[0][0] = 1\n",
    "\n",
    "    for i in range(1, n+1):\n",
    "        for j in range(1, target+1):\n",
    "            dp[i][j] = sum(dp[i-1][max(0, j-k):j])\n",
    "        \n",
    "    return dp[-1][-1]%(10**9+7)\n",
    "\n",
    "\n",
    "n=30\n",
    "k=30\n",
    "target=500\n",
    "\n",
    "print(numRollsToTarget(n, k, target))"
   ]
  },
  {
   "cell_type": "code",
   "execution_count": null,
   "metadata": {},
   "outputs": [],
   "source": []
  }
 ],
 "metadata": {
  "kernelspec": {
   "display_name": "Python 3",
   "language": "python",
   "name": "python3"
  },
  "language_info": {
   "codemirror_mode": {
    "name": "ipython",
    "version": 3
   },
   "file_extension": ".py",
   "mimetype": "text/x-python",
   "name": "python",
   "nbconvert_exporter": "python",
   "pygments_lexer": "ipython3",
   "version": "3.12.1"
  }
 },
 "nbformat": 4,
 "nbformat_minor": 2
}
